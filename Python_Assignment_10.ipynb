{
 "cells": [
  {
   "attachments": {},
   "cell_type": "markdown",
   "id": "cf5ad83c",
   "metadata": {},
   "source": [
    "#Q.1> Create a vehicle class with an init method having instance variables as name_of_vehicle,max_speed and average_of_vehicle.\n"
   ]
  },
  {
   "cell_type": "code",
   "execution_count": 1,
   "id": "88a7e2e0-51ef-4af8-8bc3-6600efbb6a1d",
   "metadata": {},
   "outputs": [
    {
     "name": "stdout",
     "output_type": "stream",
     "text": [
      "Car\n",
      "200\n",
      "20\n"
     ]
    }
   ],
   "source": [
    "\n",
    "class Vehicle:\n",
    "    def __init__(self, name_of_vehicle, max_speed, average_of_vehicle):\n",
    "        self.name_of_vehicle = name_of_vehicle\n",
    "        self.max_speed = max_speed\n",
    "        self.average_of_vehicle = average_of_vehicle\n",
    "        \n",
    "car = Vehicle(\"Car\", 200, 20)\n",
    "print(car.name_of_vehicle)  # \"Car\"\n",
    "print(car.max_speed)  # 200\n",
    "print(car.average_of_vehicle)  # 20\n"
   ]
  },
  {
   "attachments": {},
   "cell_type": "markdown",
   "id": "5c81f96c",
   "metadata": {},
   "source": [
    "'''Q.2> Create a child class car from the vehicle class created in Que 1, which will inherit the vehicle class. \n",
    "        Create a method named seating_capacity which takes capacity as an argument and returns the name of \n",
    "        the vehicle and its seating capacity.'''"
   ]
  },
  {
   "cell_type": "code",
   "execution_count": 7,
   "id": "b8135b24-a6de-4fb0-828f-485199af27cc",
   "metadata": {},
   "outputs": [
    {
     "name": "stdout",
     "output_type": "stream",
     "text": [
      "The My Car has a seating capacity of 5.\n"
     ]
    }
   ],
   "source": [
    "\n",
    "class Car(Vehicle):\n",
    "    def seating_capacity(self, capacity):\n",
    "        return f\"The {self.name_of_vehicle} has a seating capacity of {capacity}.\"\n",
    "    \n",
    "my_car = Car(\"My Car\", 150, 15)\n",
    "print(my_car.seating_capacity(5))  # \"The My Car has a seating capacity of 5.\""
   ]
  },
  {
   "attachments": {},
   "cell_type": "markdown",
   "id": "6cf6590d",
   "metadata": {},
   "source": [
    "Q.3> What is multiple inheritance? Write a python code to demonstrate multiple inheritance."
   ]
  },
  {
   "cell_type": "code",
   "execution_count": 2,
   "id": "25892f80-dce9-4992-af62-c92c98c20844",
   "metadata": {},
   "outputs": [
    {
     "name": "stdout",
     "output_type": "stream",
     "text": [
      "Engine started.\n",
      "Fuel tank filled with 50 liters.\n",
      "Car is driving.\n"
     ]
    }
   ],
   "source": [
    "'''\n",
    "Ans>    Multiple inheritance is a feature of object-oriented programming that allows a class to inherit \n",
    "        attributes and behaviors from multiple parent classes. This allows for greater flexibility and \n",
    "        code reuse, as a single class can inherit the characteristics of multiple existing classes.'''\n",
    "class Engine:\n",
    "    def start(self):\n",
    "        return \"Engine started.\"\n",
    "\n",
    "class FuelSystem:\n",
    "    def fill_fuel(self, fuel_amount):\n",
    "        return f\"Fuel tank filled with {fuel_amount} liters.\"\n",
    "\n",
    "class Car(Engine, FuelSystem):\n",
    "    def drive(self):\n",
    "        return \"Car is driving.\"\n",
    "\n",
    "my_car = Car()\n",
    "print(my_car.start())  # \"Engine started.\"\n",
    "print(my_car.fill_fuel(50))  # \"Fuel tank filled with 50 liters.\"\n",
    "print(my_car.drive())  # \"Car is driving.\""
   ]
  },
  {
   "attachments": {},
   "cell_type": "markdown",
   "id": "cae54235",
   "metadata": {},
   "source": [
    "Q.4> What are getter and setter in python? Create a class and create a getter and a setter method in this class"
   ]
  },
  {
   "cell_type": "code",
   "execution_count": 3,
   "id": "fbaa0070-77c2-49dd-865d-b0ed56f895fa",
   "metadata": {},
   "outputs": [
    {
     "name": "stdout",
     "output_type": "stream",
     "text": [
      "John Doe\n",
      "Jane Doe\n",
      "30\n",
      "35\n"
     ]
    }
   ],
   "source": [
    "'''\n",
    "Ans>    Getters and setters are methods in object-oriented programming that allow you to control access to the \n",
    "        attributes of an object. A getter method is used to retrieve the value of an attribute, while a setter \n",
    "        method is used to set the value of an attribute.'''\n",
    "class Person:\n",
    "    def __init__(self, name, age):\n",
    "        self._name = name\n",
    "        self._age = age\n",
    "\n",
    "    @property\n",
    "    def name(self):\n",
    "        return self._name\n",
    "\n",
    "    @name.setter\n",
    "    def name(self, value):\n",
    "        if not isinstance(value, str):\n",
    "            raise TypeError(\"Name must be a string.\")\n",
    "        self._name = value\n",
    "\n",
    "    @property\n",
    "    def age(self):\n",
    "        return self._age\n",
    "\n",
    "    @age.setter\n",
    "    def age(self, value):\n",
    "        if not isinstance(value, int):\n",
    "            raise TypeError(\"Age must be an integer.\")\n",
    "        self._age = value\n",
    "\n",
    "person = Person(\"John Doe\", 30)\n",
    "print(person.name)  # \"John Doe\"\n",
    "person.name = \"Jane Doe\"\n",
    "print(person.name)  # \"Jane Doe\"\n",
    "print(person.age)  # 30\n",
    "person.age = 35\n",
    "print(person.age)  # 35"
   ]
  },
  {
   "cell_type": "code",
   "execution_count": null,
   "id": "f818124a-9ea8-418d-a181-46d6da966977",
   "metadata": {},
   "outputs": [],
   "source": []
  },
  {
   "cell_type": "code",
   "execution_count": null,
   "id": "ec030991",
   "metadata": {},
   "outputs": [],
   "source": []
  }
 ],
 "metadata": {
  "kernelspec": {
   "display_name": "Python 3",
   "language": "python",
   "name": "python3"
  },
  "language_info": {
   "codemirror_mode": {
    "name": "ipython",
    "version": 3
   },
   "file_extension": ".py",
   "mimetype": "text/x-python",
   "name": "python",
   "nbconvert_exporter": "python",
   "pygments_lexer": "ipython3",
   "version": "3.9.0"
  },
  "vscode": {
   "interpreter": {
    "hash": "bf9ab843c2c44a0abbe96a3f5fa8fc8f7b5aa1503133f196762388041b9614c2"
   }
  }
 },
 "nbformat": 4,
 "nbformat_minor": 5
}
