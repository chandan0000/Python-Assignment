{
 "cells": [
  {
   "cell_type": "markdown",
   "id": "db666499-0864-439d-9ce6-c260e7d3cf80",
   "metadata": {},
   "source": [
    "1. Who Developed the python programming language?"
   ]
  },
  {
   "cell_type": "markdown",
   "id": "227e7162-633f-4c14-af36-19da10cba39a",
   "metadata": {},
   "source": [
    "Guido Van Rossum"
   ]
  },
  {
   "cell_type": "markdown",
   "id": "9726a32e-2102-4309-a60e-e69337d01680",
   "metadata": {},
   "source": [
    "2. Which type of programming does python support?"
   ]
  },
  {
   "cell_type": "markdown",
   "id": "f7b04844-d6e0-4fc4-8bee-3b0762751cbd",
   "metadata": {},
   "source": [
    "Object oriented programing and structured programing"
   ]
  },
  {
   "cell_type": "markdown",
   "id": "c0c007ce-afb4-42e4-b7b2-9fa68b8e833a",
   "metadata": {},
   "source": [
    "3. is python case sensitive when dealing with identifier?"
   ]
  },
  {
   "cell_type": "markdown",
   "id": "cf5e55df-3eea-44c9-b996-0b788e8803bc",
   "metadata": {},
   "source": [
    "yes it is a case sensitive"
   ]
  },
  {
   "cell_type": "markdown",
   "id": "b5c73eef-f860-4e8c-b945-ef01286fadb3",
   "metadata": {},
   "source": [
    "4. what is the correct extension of python file?"
   ]
  },
  {
   "cell_type": "markdown",
   "id": "6595b591-a4a1-4703-ba85-021ed0a9576c",
   "metadata": {},
   "source": [
    " py"
   ]
  },
  {
   "cell_type": "markdown",
   "id": "36f44d43-4544-4409-8bc3-610fd8dc3fb8",
   "metadata": {},
   "source": [
    "5. is python code compiled or interpreted ?"
   ]
  },
  {
   "cell_type": "markdown",
   "id": "b460391a-51dc-4c76-8d02-f5cc3d039d3a",
   "metadata": {},
   "source": [
    "Python is an interpreted language, which means the source code of a Python program is converted into bytecode that is then executed by the Python virtual machine"
   ]
  },
  {
   "cell_type": "markdown",
   "id": "ba9c7080-eff8-4b1f-abf0-534e38b9c784",
   "metadata": {},
   "source": [
    "6. Name a few blocks of code used to define in Python language?\n"
   ]
  },
  {
   "cell_type": "markdown",
   "id": "c1662339-672e-44f9-9abb-23d15141e64c",
   "metadata": {},
   "source": [
    "Python uses indentation to define blocks of code. Indentations are simply spaces or tabs used as an indicator that is part of the indent code child.\n",
    "\n",
    "if (condition):\n",
    "\n",
    "    # Statement 1\n",
    "    \n",
    "else:\n",
    "\n",
    "    # Statement 2\n",
    "\n",
    "You will find that statements 1 will have the same indentation and therefore is of the same block. And similarly, statements 2 is of a another block."
   ]
  },
  {
   "cell_type": "markdown",
   "id": "7e645fef-fcf5-4fcc-83ff-ea3f4894d621",
   "metadata": {},
   "source": [
    "7. State a character used to give single-line comments in Python?\n"
   ]
  },
  {
   "cell_type": "markdown",
   "id": "5b09914f-e4d1-4ede-8758-abf1f2e7ccd7",
   "metadata": {},
   "source": [
    "' # ' symbol to write a single-line comment."
   ]
  },
  {
   "cell_type": "markdown",
   "id": "3e5179ec-1629-4a70-bcdc-0dc1dd41be33",
   "metadata": {},
   "source": [
    "8. Mention functions which can help us to find the version of python that we are currently working on?\n"
   ]
  },
  {
   "cell_type": "markdown",
   "id": "10682e0c-ba73-4ec4-bb26-1e8ea1e967ea",
   "metadata": {},
   "source": [
    "The function sys.version can help us to find the version of python that we are currently working on."
   ]
  },
  {
   "cell_type": "markdown",
   "id": "cd9ad158-2ec7-4516-9a77-c7ae14228fa9",
   "metadata": {},
   "source": [
    "9. Python supports the creation of anonymous functions at runtime, using a construct called\n"
   ]
  },
  {
   "cell_type": "markdown",
   "id": "34ff26c5-b007-4925-b96d-3408d48167fd",
   "metadata": {},
   "source": [
    "Lambda"
   ]
  },
  {
   "cell_type": "markdown",
   "id": "1a036748-bda3-4ec7-96d5-31dc3be06226",
   "metadata": {},
   "source": [
    "10. What does pip stand for python?\n",
    "\n"
   ]
  },
  {
   "cell_type": "markdown",
   "id": "d459ae30-0fcb-4f0c-b572-4250effcbd11",
   "metadata": {},
   "source": [
    "Preferred Installer Program"
   ]
  },
  {
   "cell_type": "markdown",
   "id": "f7ec9555-cd14-45d8-b269-9dfef26badf6",
   "metadata": {},
   "source": [
    "11. Mention a few built- in functions in python?\n"
   ]
  },
  {
   "cell_type": "markdown",
   "id": "7586843c-ccac-4e73-85ef-15bed53ef936",
   "metadata": {},
   "source": [
    " 1.  bool()\n",
    "This function takes a value as an argument and returns either True or False. It gives True if the value is not empty/zero/False. Or else it returns False. \n",
    "\n",
    "2. chr()\n",
    "This function takes the Unicode value as an input and returns the respective character.\n",
    "\n",
    "3. dict()\n",
    "This function converts the input into the dictionary data type and returns it."
   ]
  },
  {
   "cell_type": "markdown",
   "id": "fdc295c3-0b32-41ff-9a0a-6c331dab3f01",
   "metadata": {},
   "source": [
    "12. What is the maximum possible length of an identifier in Python?\n",
    "\n"
   ]
  },
  {
   "cell_type": "markdown",
   "id": "7b7b3324-4101-4b4e-922c-1652a3a09f7d",
   "metadata": {},
   "source": [
    "79 characters"
   ]
  },
  {
   "cell_type": "markdown",
   "id": "769db3e6-8a28-4f84-9ead-d5f11145f463",
   "metadata": {},
   "source": [
    "13. What are the benefits of using Python?\n"
   ]
  },
  {
   "cell_type": "markdown",
   "id": "7015d702-8748-43b2-b2c9-e5423b72c335",
   "metadata": {},
   "source": [
    "1. Simple and Easy to learn\n",
    "2. Portable and Extensible\n",
    "3. Object-Oriented Programming\n",
    "4. Artificial Intelligence\n",
    "5. Big Data\n",
    "\n",
    "Python can handle plenty of an immense amount of data. "
   ]
  },
  {
   "cell_type": "markdown",
   "id": "7a865584-e2cf-4de9-9360-6b696de9ebb5",
   "metadata": {},
   "source": [
    "14. How is memory managed in Python?\n",
    "\n"
   ]
  },
  {
   "cell_type": "markdown",
   "id": "fbe1545d-8ce1-48a8-81f8-5247d5ca8222",
   "metadata": {},
   "source": [
    "Memory in Python is managed by Python private heap space.\n",
    "All Python objects and data structures are located in a private heap. This private heap is taken care of by Python Interpreter itself, and a programmer doesn’t have access to this private heap.\n",
    "Python memory manager takes care of the allocation of Python private heap space.\n",
    "Memory for Python private heap space is made available by Python’s in-built garbage collector, which recycles and frees up all the unused memory.\n",
    " The allocation of heap space for Python objects and other internal buffers is performed on demand by the Python memory manager through the Python/C API functions listed in this document.\n",
    "To avoid memory corruption, extension writers should never try to operate on Python objects with the functions exported by the C library: malloc(), calloc(), realloc() and free()."
   ]
  },
  {
   "cell_type": "markdown",
   "id": "d5e7a38c-6ec4-4bb0-94f7-5ef2c2ae6dd8",
   "metadata": {},
   "source": [
    "15. How to install Python on Windows and set path variables?\n"
   ]
  },
  {
   "cell_type": "markdown",
   "id": "9f3983b7-9216-4a76-8714-2f6b07176111",
   "metadata": {},
   "source": [
    "First, we need to locate where the python is being installed after downloading it. Press WINDOWS key and search for “Python”, you will get something like this:Click on open file location and you will be in a location where Python is installed, Copy the location path from the top by clicking over it.\n",
    "Now, we have to add the above-copied path as a variable so that windows can recognize. Search for “Environmental Variables”, you will see something like this:\n",
    "Click on that(\n",
    "Now click the “Environmental Variables” button"
   ]
  },
  {
   "cell_type": "markdown",
   "id": "cb9763ef-bacc-4a04-96d7-4b2ed938baa8",
   "metadata": {},
   "source": [
    "16. is indentation is required for the python?"
   ]
  },
  {
   "cell_type": "markdown",
   "id": "097dc72d-2e9b-48b7-89d9-212ec7735c95",
   "metadata": {},
   "source": [
    "Indentation refers to the spaces at the beginning of a code line.\n",
    "Where in other programming languages the indentation in code is for readability only, for Python is very important.\n",
    "Python uses indentation to indicate a block of code"
   ]
  },
  {
   "cell_type": "code",
   "execution_count": null,
   "id": "0e9442e7-6de6-48bf-8fdd-c75b0b83d9f1",
   "metadata": {},
   "outputs": [],
   "source": []
  }
 ],
 "metadata": {
  "kernelspec": {
   "display_name": "Python 3 (ipykernel)",
   "language": "python",
   "name": "python3"
  },
  "language_info": {
   "codemirror_mode": {
    "name": "ipython",
    "version": 3
   },
   "file_extension": ".py",
   "mimetype": "text/x-python",
   "name": "python",
   "nbconvert_exporter": "python",
   "pygments_lexer": "ipython3",
   "version": "3.10.8"
  }
 },
 "nbformat": 4,
 "nbformat_minor": 5
}
