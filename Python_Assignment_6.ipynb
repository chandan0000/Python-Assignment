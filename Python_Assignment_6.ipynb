{
  "nbformat": 4,
  "nbformat_minor": 0,
  "metadata": {
    "colab": {
      "provenance": []
    },
    "kernelspec": {
      "name": "python3",
      "display_name": "Python 3"
    },
    "language_info": {
      "name": "python"
    }
  },
  "cells": [
    {
      "cell_type": "markdown",
      "source": [
        "Q1. Explain Class and Object with respect to Object-Oriented Programming. Give a suitable example."
      ],
      "metadata": {
        "id": "zmB-ACCdnwsp"
      }
    },
    {
      "cell_type": "markdown",
      "source": [
        "A class is a blueprint for creating objects providing initial values for state , and implementations of behavior.\n",
        "\n",
        "An object is an instance of a class, created at runtime. Each object has its own unique set of attributes and methods  that operate on that data."
      ],
      "metadata": {
        "id": "cYPPVrrtn4KA"
      }
    },
    {
      "cell_type": "code",
      "execution_count": 1,
      "metadata": {
        "colab": {
          "base_uri": "https://localhost:8080/"
        },
        "id": "JKTU-vY4nv9K",
        "outputId": "face1bda-6f5c-4f1f-e04d-a0a74be2e30b"
      },
      "outputs": [
        {
          "output_type": "stream",
          "name": "stdout",
          "text": [
            "Toyota\n",
            "Camry\n",
            "2022\n",
            "0\n",
            "Toyota Camry, manufactured in 2022\n"
          ]
        }
      ],
      "source": [
        "# Example\n",
        "\n",
        "class Car:\n",
        "  def __init__(self, name, model, year):\n",
        "    self.name = name\n",
        "    self.model = model\n",
        "    self.year = year\n",
        "    self.odometer_reading = 0\n",
        "    \n",
        "  def description(self):\n",
        "    return f\"{self.name} {self.model}, manufactured in {self.year}\"\n",
        "\n",
        "my_car = Car(\"Toyota\", \"Camry\", 2022)\n",
        "print(my_car.name) \n",
        "print(my_car.model) \n",
        "print(my_car.year)\n",
        "print(my_car.odometer_reading)\n",
        "print(my_car.description()) "
      ]
    },
    {
      "cell_type": "markdown",
      "source": [
        "Q2. Name the four pillars of OOPs."
      ],
      "metadata": {
        "id": "HyfovQdgofQL"
      }
    },
    {
      "cell_type": "markdown",
      "source": [
        "- Encapsulation\n",
        "- Inheritance\n",
        "- Polymorphism\n",
        "- Abstraction"
      ],
      "metadata": {
        "id": "M8adC44DoggR"
      }
    },
    {
      "cell_type": "markdown",
      "source": [
        "Q3. Explain why the __init__() function is used. Give a suitable example."
      ],
      "metadata": {
        "id": "c6Zw0-G4ooby"
      }
    },
    {
      "cell_type": "markdown",
      "source": [
        "The __init__ method is a special method in Python classes that acts as a constructor. It is automatically called when an object of the class is created. The __init__ method is used to initialize the attributes of the class and set the default values."
      ],
      "metadata": {
        "id": "mtUdC9FeopeZ"
      }
    },
    {
      "cell_type": "code",
      "source": [
        "# Example\n",
        "\n",
        "class Car:\n",
        "  def __init__(self, name, model, year):\n",
        "    self.name = name\n",
        "    self.model = model\n",
        "    self.year = year\n",
        "    self.odometer_reading = 0\n",
        "   \n",
        "\n",
        "my_car = Car(\"Toyota\", \"Camry\", 2022)\n",
        "print(my_car.name) \n",
        "print(my_car.model) \n",
        "print(my_car.year)\n",
        "\n"
      ],
      "metadata": {
        "colab": {
          "base_uri": "https://localhost:8080/"
        },
        "id": "w__AsLdgopEx",
        "outputId": "d5196e3b-5bfa-4483-f47e-8968b22e2762"
      },
      "execution_count": 3,
      "outputs": [
        {
          "output_type": "stream",
          "name": "stdout",
          "text": [
            "Toyota\n",
            "Camry\n",
            "2022\n"
          ]
        }
      ]
    },
    {
      "cell_type": "markdown",
      "source": [
        "Q4. Why self is used in OOPs?"
      ],
      "metadata": {
        "id": "Cv4na7rjo-r1"
      }
    },
    {
      "cell_type": "markdown",
      "source": [
        "self is a reference to the current instance of the class. It is used to access the attributes and methods of the class within the class definition"
      ],
      "metadata": {
        "id": "cj5TEh-IpDwl"
      }
    },
    {
      "cell_type": "markdown",
      "source": [
        "Q5. What is inheritance? Give an example for each type of inheritance."
      ],
      "metadata": {
        "id": "y7-eEVGUpEwD"
      }
    },
    {
      "cell_type": "markdown",
      "source": [
        "inheritance is a mechanism in object-oriented programming that allows a new class to be derived from an existing class, inheriting its attributes and behavior. This is useful for creating new classes that are related to existing classes and share some of their functionality."
      ],
      "metadata": {
        "id": "rs7xyntOpHU1"
      }
    },
    {
      "cell_type": "markdown",
      "source": [
        "Types of Inheritance\n",
        "1. Single Inheritance\n",
        "Single inheritance enables a derived class to inherit properties from a single parent class, thus enabling code reusability and the addition of new features to existing code."
      ],
      "metadata": {
        "id": "h66CZL0_pHEj"
      }
    },
    {
      "cell_type": "code",
      "source": [
        "#example\n",
        "class Parent:\n",
        "    def func1(self):\n",
        "        print(\"This function is in parent class.\")\n",
        "class Child(Parent):\n",
        "    def func2(self):\n",
        "        print(\"This function is in child class.\")\n",
        "\n",
        "object = Child()\n",
        "object.func1()\n",
        "object.func2()"
      ],
      "metadata": {
        "colab": {
          "base_uri": "https://localhost:8080/"
        },
        "id": "OvTX7luHoSjW",
        "outputId": "c18103b2-ab4d-430e-ef7c-a4634eefdce7"
      },
      "execution_count": 5,
      "outputs": [
        {
          "output_type": "stream",
          "name": "stdout",
          "text": [
            "This function is in parent class.\n",
            "This function is in child class.\n"
          ]
        }
      ]
    },
    {
      "cell_type": "markdown",
      "source": [
        "2. Multiple Inheritance: \n",
        "When a class can be derived from more than one base class this type of inheritance is called multiple inheritances. In multiple inheritances, all the features of the base classes are inherited into the derived class. "
      ],
      "metadata": {
        "id": "mLvq7TE7qNjR"
      }
    },
    {
      "cell_type": "code",
      "source": [
        "class Mother:\n",
        "    mothername = \"\"\n",
        " \n",
        "    def mother(self):\n",
        "        print(self.mothername)\n",
        " \n",
        "class Father:\n",
        "    fathername = \"\"\n",
        " \n",
        "    def father(self):\n",
        "        print(self.fathername)\n",
        "\n",
        "class Son(Mother, Father):\n",
        "    def parents(self):\n",
        "        print(\"Father :\", self.fathername)\n",
        "        print(\"Mother :\", self.mothername)\n",
        "\n",
        "s1 = Son()\n",
        "s1.fathername = \"RAM\"\n",
        "s1.mothername = \"SITA\"\n",
        "s1.parents()"
      ],
      "metadata": {
        "colab": {
          "base_uri": "https://localhost:8080/"
        },
        "id": "nVHYQzpKqBWT",
        "outputId": "5279d87e-81d4-4994-ffa0-ac21bb999ae6"
      },
      "execution_count": 6,
      "outputs": [
        {
          "output_type": "stream",
          "name": "stdout",
          "text": [
            "Father : RAM\n",
            "Mother : SITA\n"
          ]
        }
      ]
    },
    {
      "cell_type": "markdown",
      "source": [
        "3. Multilevel Inheritance :\n",
        "In multilevel inheritance, features of the base class and the derived class are further inherited into the new derived class. This is similar to a relationship representing a child and a grandfather. "
      ],
      "metadata": {
        "id": "g2wMZ7w4qTxm"
      }
    },
    {
      "cell_type": "code",
      "source": [
        "class Grandfather:\n",
        " \n",
        "    def __init__(self, grandfathername):\n",
        "        self.grandfathername = grandfathername\n",
        " \n",
        "\n",
        "class Father(Grandfather):\n",
        "    def __init__(self, fathername, grandfathername):\n",
        "        self.fathername = fathername\n",
        " \n",
        "       \n",
        "        Grandfather.__init__(self, grandfathername)\n",
        " \n",
        "\n",
        " \n",
        " \n",
        "class Son(Father):\n",
        "    def __init__(self, sonname, fathername, grandfathername):\n",
        "        self.sonname = sonname\n",
        " \n",
        "\n",
        "        Father.__init__(self, fathername, grandfathername)\n",
        " \n",
        "    def print_name(self):\n",
        "        print('Grandfather name :', self.grandfathername)\n",
        "        print(\"Father name :\", self.fathername)\n",
        "        print(\"Son name :\", self.sonname)\n",
        " \n",
        " \n",
        "#  Driver code\n",
        "s1 = Son('Prince', 'Rampal', 'Lal mani')\n",
        "print(s1.grandfathername)\n",
        "s1.print_name()"
      ],
      "metadata": {
        "colab": {
          "base_uri": "https://localhost:8080/"
        },
        "id": "-dpoACz1qM5M",
        "outputId": "55ed3763-7376-4126-d551-ce49a81aab50"
      },
      "execution_count": 7,
      "outputs": [
        {
          "output_type": "stream",
          "name": "stdout",
          "text": [
            "Lal mani\n",
            "Grandfather name : Lal mani\n",
            "Father name : Rampal\n",
            "Son name : Prince\n"
          ]
        }
      ]
    },
    {
      "cell_type": "markdown",
      "source": [
        "4. Hierarchical Inheritance: \n",
        "When more than one derived class are created from a single base this type of inheritance is called hierarchical inheritance. In this program, we have a parent (base) class and two child (derived) classes."
      ],
      "metadata": {
        "id": "LyJ2iHQBqf53"
      }
    },
    {
      "cell_type": "code",
      "source": [
        "class Parent:\n",
        "    def func1(self):\n",
        "        print(\"This function is in parent class.\")\n",
        " \n",
        "# Derived class1\n",
        " \n",
        " \n",
        "class Child1(Parent):\n",
        "    def func2(self):\n",
        "        print(\"This function is in child 1.\")\n",
        " \n",
        "# Derivied class2\n",
        " \n",
        " \n",
        "class Child2(Parent):\n",
        "    def func3(self):\n",
        "        print(\"This function is in child 2.\")\n",
        " \n",
        " \n",
        "# Driver's code\n",
        "object1 = Child1()\n",
        "object2 = Child2()\n",
        "object1.func1()\n",
        "object1.func2()\n",
        "object2.func1()\n",
        "object2.func3()"
      ],
      "metadata": {
        "colab": {
          "base_uri": "https://localhost:8080/"
        },
        "id": "yiAw8bIMqTJ4",
        "outputId": "a6f85bb6-6d69-4220-d09f-37d0f0e3a3f5"
      },
      "execution_count": 8,
      "outputs": [
        {
          "output_type": "stream",
          "name": "stdout",
          "text": [
            "This function is in parent class.\n",
            "This function is in child 1.\n",
            "This function is in parent class.\n",
            "This function is in child 2.\n"
          ]
        }
      ]
    },
    {
      "cell_type": "markdown",
      "source": [
        "5. Hybrid Inheritance: \n",
        "Inheritance consisting of multiple types of inheritance is called hybrid inheritance."
      ],
      "metadata": {
        "id": "z6Aeqf0Cqj2P"
      }
    },
    {
      "cell_type": "code",
      "source": [
        "class School:\n",
        "    def func1(self):\n",
        "        print(\"This function is in school.\")\n",
        " \n",
        " \n",
        "class Student1(School):\n",
        "    def func2(self):\n",
        "        print(\"This function is in student 1. \")\n",
        " \n",
        " \n",
        "class Student2(School):\n",
        "    def func3(self):\n",
        "        print(\"This function is in student 2.\")\n",
        " \n",
        " \n",
        "class Student3(Student1, School):\n",
        "    def func4(self):\n",
        "        print(\"This function is in student 3.\")\n",
        " \n",
        " \n",
        "# Driver's code\n",
        "object = Student3()\n",
        "object.func1()\n",
        "object.func2()"
      ],
      "metadata": {
        "colab": {
          "base_uri": "https://localhost:8080/"
        },
        "id": "og224xgBqjGT",
        "outputId": "50dd8a9a-9802-44f3-aa90-21d7040577b8"
      },
      "execution_count": 9,
      "outputs": [
        {
          "output_type": "stream",
          "name": "stdout",
          "text": [
            "This function is in school.\n",
            "This function is in student 1. \n"
          ]
        }
      ]
    },
    {
      "cell_type": "code",
      "source": [],
      "metadata": {
        "id": "SvEEUhFCqqAw"
      },
      "execution_count": null,
      "outputs": []
    }
  ]
}