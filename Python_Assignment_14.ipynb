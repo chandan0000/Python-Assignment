{
 "cells": [
  {
   "cell_type": "markdown",
   "id": "ae34e657-e621-46b4-96c6-50d72adcd1c7",
   "metadata": {},
   "source": [
    "1. what is multithreading in python? hy is it used? Name the module used to handle threads in python"
   ]
  },
  {
   "cell_type": "markdown",
   "id": "a8ed6d74-fe30-4cc0-97e4-5edf766533f0",
   "metadata": {},
   "source": [
    "Multithreading in Python is a technique where a program is divided into multiple threads of execution that can run concurrently. Each thread is a separate flow of control that can perform a specific task, and the threads share the same memory space, allowing them to communicate and coordinate with each other.\n",
    "\n",
    "Multithreading is used in Python to perform multiple tasks simultaneously and make programs more efficient by utilizing the available hardware resources. It is especially useful in applications that involve I/O operations or other tasks that are blocking, as it allows the program to continue executing other tasks while waiting for the blocked task to complete.\n",
    "\n",
    "In Python, the threading module is used to handle threads. This module provides a simple and easy-to-use interface for creating and managing threads, with support for features such as thread synchronization, thread-safe data structures, and thread communication. The threading module is part of the standard Python library, so it is available on all platforms where Python is supported."
   ]
  },
  {
   "cell_type": "markdown",
   "id": "ef9749d3-6fba-4e3e-8b89-bab755064eab",
   "metadata": {},
   "source": [
    "2. why threading module used? write the use of the following functions\n",
    "activeCount()\n",
    "currentThread()\n",
    "enumerate()"
   ]
  },
  {
   "cell_type": "markdown",
   "id": "a1759380-9fd0-434f-9341-8531e5934c7f",
   "metadata": {},
   "source": [
    "The threading module in Python is used to create and manage threads in a program. There are several reasons why you might want to use threading in your Python program:\n",
    "\n",
    "Concurrency: Threading allows multiple parts of a program to run concurrently, which can improve the performance and efficiency of the program. By running multiple threads at the same time, the program can utilize the available hardware resources more effectively.\n",
    "\n",
    "Asynchronous I/O: Threading can be used to perform asynchronous I/O operations, where the program can continue executing other tasks while waiting for I/O operations to complete. This can be useful in applications that involve network communication, file I/O, or other types of I/O that are blocking.\n",
    "\n",
    "Parallelism: Threading can be used to perform tasks in parallel, where multiple threads can work on the same task simultaneously. This can be useful in applications that involve heavy computation, as it can reduce the time required to complete the task.\n",
    "\n",
    "Synchronization: Threading provides mechanisms for synchronizing access to shared resources, such as data structures or files, to avoid conflicts and ensure thread safety.\n",
    "\n",
    "\n",
    "\n",
    "activeCount(): The activeCount() function is used to get the number of thread objects that are currently active in the program. This can be useful for monitoring the status of threads and ensuring that all threads have completed before exiting the program.\n",
    "\n",
    "currentThread(): The currentThread() function is used to get a reference to the current thread object that is executing the function. This can be useful for identifying the current thread, and for passing the thread object to other functions for manipulation.\n",
    "\n",
    "enumerate(): The enumerate() function is used to get a list of all thread objects that are currently active in the program. This can be useful for iterating over all active threads and performing operations on them, such as waiting for them to complete or checking their status.\n"
   ]
  },
  {
   "cell_type": "markdown",
   "id": "e801febd-6190-45fe-8c76-2e126914d5b3",
   "metadata": {},
   "source": [
    "3. Explain the following functions\n",
    "run()\n",
    "start()\n",
    "join()\n",
    "isAlive()"
   ]
  },
  {
   "cell_type": "markdown",
   "id": "094a97b6-cd10-4b43-b9cb-0092de0585e2",
   "metadata": {},
   "source": [
    "run(): The run() method is the entry point for the thread. When a thread is started, its run() method is called. This method can be overridden to define the thread's behavior.\n",
    "\n",
    "start(): The start() method is used to start the execution of a thread. When the start() method is called, the thread's run() method is executed in a separate thread of execution.\n",
    "\n",
    "join(): The join() method is used to wait for the thread to complete its execution. When the join() method is called, the program waits until the thread completes before continuing execution.\n",
    "\n",
    "isAlive(): The isAlive() method is used to check whether the thread is currently executing. The method returns True if the thread is currently executing, and False otherwise."
   ]
  },
  {
   "cell_type": "markdown",
   "id": "849ee3e8-ea0d-4904-8671-c11cb2cd7ec1",
   "metadata": {},
   "source": [
    "4. write a python program to create two threads. Thread one must print the list of squares and thread\n",
    "two must print the list of cubes"
   ]
  },
  {
   "cell_type": "code",
   "execution_count": 2,
   "id": "17deefe9-272b-45fc-855d-862688cf78bc",
   "metadata": {},
   "outputs": [
    {
     "name": "stdout",
     "output_type": "stream",
     "text": [
      "Square of 1 = 1\n",
      "Square of 2 = 4\n",
      "Square of 3 = 9\n",
      "Square of 4 = 16\n",
      "Square of 5 = 25\n",
      "Square of 6 = 36\n",
      "Square of 7 = 49\n",
      "Square of 8 = 64\n",
      "Square of 9 = 81\n",
      "Square of 10 = 100\n",
      "Cube of 1 = 1\n",
      "Cube of 2 = 8\n",
      "Cube of 3 = 27\n",
      "Cube of 4 = 64\n",
      "Cube of 5 = 125\n",
      "Cube of 6 = 216\n",
      "Cube of 7 = 343\n",
      "Cube of 8 = 512\n",
      "Cube of 9 = 729\n",
      "Cube of 10 = 1000\n"
     ]
    }
   ],
   "source": [
    "import threading\n",
    "\n",
    "def print_squares():\n",
    "    for i in range(1, 11):\n",
    "        print(f\"Square of {i} = {i**2}\")\n",
    "\n",
    "def print_cubes():\n",
    "    for i in range(1, 11):\n",
    "        print(f\"Cube of {i} = {i**3}\")\n",
    "\n",
    "t1 = threading.Thread(target=print_squares)\n",
    "t2 = threading.Thread(target=print_cubes)\n",
    "\n",
    "t1.start()\n",
    "t2.start()\n",
    "\n",
    "\n",
    "t1.join()\n",
    "t2.join()"
   ]
  },
  {
   "cell_type": "markdown",
   "id": "bbb6fb3e-286d-454d-ba3f-eda5d237dcd9",
   "metadata": {},
   "source": [
    "5. State advantages and disadvantages of multithreading"
   ]
  },
  {
   "cell_type": "markdown",
   "id": "ef8e6d41-6931-4c21-87e9-ea048abf90af",
   "metadata": {},
   "source": [
    "Advantages of Multithreading:\n",
    "\n",
    "Improved performance: Multithreading allows a program to perform multiple tasks simultaneously, which can lead to better performance and faster execution times. This is especially useful in applications that involve I/O or other tasks that are blocking.\n",
    "\n",
    "Resource sharing: Multithreading allows threads to share resources such as memory and CPU time, which can lead to more efficient resource utilization.\n",
    "\n",
    "Asynchronous execution: Multithreading can be used to perform asynchronous I/O operations, where the program can continue executing other tasks while waiting for I/O operations to complete. This can improve the responsiveness of the program.\n",
    "\n",
    "Parallel processing: Multithreading can be used to perform tasks in parallel, where multiple threads can work on the same task simultaneously. This can reduce the time required to complete the task.\n",
    "\n",
    "Disadvantages of Multithreading:\n",
    "\n",
    "Complexity: Multithreading adds complexity to a program, making it more difficult to design, develop, and debug. It can be challenging to ensure thread safety and avoid race conditions and deadlocks.\n",
    "\n",
    "Overhead: Multithreading introduces overhead in terms of memory and CPU time, as each thread requires its own stack and context switching between threads requires additional processing time.\n",
    "\n",
    "Synchronization issues: Multithreading introduces synchronization issues, as threads may access shared resources simultaneously, leading to conflicts and data corruption.\n",
    "\n",
    "Debugging challenges: Debugging multithreaded programs can be challenging, as the behavior of the program can be non-deterministic and difficult to reproduce."
   ]
  },
  {
   "cell_type": "markdown",
   "id": "a5991983-50d1-4508-811d-987af4727f3f",
   "metadata": {},
   "source": [
    "6. Explain deadlocks and race conditions."
   ]
  },
  {
   "cell_type": "markdown",
   "id": "4e80f1bf-6209-4dc6-9eea-45685eef77c5",
   "metadata": {},
   "source": [
    "Deadlocks occur when two or more threads are waiting for each other to release resources that they need in order to proceed. Deadlocks can occur when a thread holds a resource and then tries to acquire another resource that is held by another thread, which is also waiting for the first thread to release the resource it holds. This can result in a situation where both threads are waiting for each other to release the resources they need, and neither can proceed. Deadlocks can be difficult to detect and resolve, as they can be intermittent and dependent on timing and scheduling.\n",
    "\n",
    "Race conditions occur when two or more threads access a shared resource simultaneously and the behavior of the program depends on the order in which the threads execute. Race conditions can occur when a shared resource is not properly synchronized, allowing multiple threads to access it simultaneously. This can lead to unexpected and unpredictable behavior, as the behavior of the program depends on the timing and scheduling of the threads. Race conditions can be difficult to detect and reproduce, as they can be dependent on timing and other factors."
   ]
  },
  {
   "cell_type": "code",
   "execution_count": null,
   "id": "833f7b40-a5bd-4840-9fe4-161e078b7745",
   "metadata": {},
   "outputs": [],
   "source": []
  }
 ],
 "metadata": {
  "kernelspec": {
   "display_name": "Python 3 (ipykernel)",
   "language": "python",
   "name": "python3"
  },
  "language_info": {
   "codemirror_mode": {
    "name": "ipython",
    "version": 3
   },
   "file_extension": ".py",
   "mimetype": "text/x-python",
   "name": "python",
   "nbconvert_exporter": "python",
   "pygments_lexer": "ipython3",
   "version": "3.10.8"
  }
 },
 "nbformat": 4,
 "nbformat_minor": 5
}
