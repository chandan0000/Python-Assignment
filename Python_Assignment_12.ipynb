{
  "nbformat": 4,
  "nbformat_minor": 0,
  "metadata": {
    "colab": {
      "provenance": []
    },
    "kernelspec": {
      "name": "python3",
      "display_name": "Python 3"
    },
    "language_info": {
      "name": "python"
    }
  },
  "cells": [
    {
      "cell_type": "markdown",
      "source": [
        "Q1. What is an Exeption in python? Write the difference between Exceptions\n",
        "and syntax errors?"
      ],
      "metadata": {
        "id": "l41sI6Fn7GzI"
      }
    },
    {
      "cell_type": "markdown",
      "source": [
        "An exception in Python is an error that occurs during the execution of a program. It may be due to various reasons such as invalid input, division by zero, out of memory, or trying to access an undefined variable. When an exception occurs, the normal flow of the program is disrupted, and the program terminates.\n",
        "\n",
        "The key difference between exceptions and syntax errors is that exceptions occur during the execution of a program, while syntax errors occur before the program is executed. Additionally, exceptions can be handled and resolved programmatically, while syntax errors must be fixed manually by the programmer"
      ],
      "metadata": {
        "id": "0alQ3Y6a75AN"
      }
    },
    {
      "cell_type": "markdown",
      "source": [
        "Q2. What happens when an exception is not handled? Explain with an example"
      ],
      "metadata": {
        "id": "ojaphf8G78Ys"
      }
    },
    {
      "cell_type": "markdown",
      "source": [
        "When an exception is not handled, the program terminates abruptly and generates a traceback, which is a detailed report of the error that occurred. The traceback provides information about the line of code where the error occurred, the type of error, and a description of the error."
      ],
      "metadata": {
        "id": "Oo3UQPZ_8U8E"
      }
    },
    {
      "cell_type": "code",
      "execution_count": 1,
      "metadata": {
        "colab": {
          "base_uri": "https://localhost:8080/",
          "height": 339
        },
        "id": "NEr0zxyK68zp",
        "outputId": "1eb1dcbf-dd77-4a36-ba07-767c66439be9"
      },
      "outputs": [
        {
          "output_type": "stream",
          "name": "stdout",
          "text": [
            "2.0\n"
          ]
        },
        {
          "output_type": "error",
          "ename": "ZeroDivisionError",
          "evalue": "ignored",
          "traceback": [
            "\u001b[0;31m---------------------------------------------------------------------------\u001b[0m",
            "\u001b[0;31mZeroDivisionError\u001b[0m                         Traceback (most recent call last)",
            "\u001b[0;32m<ipython-input-1-4078b49b8c3e>\u001b[0m in \u001b[0;36m<module>\u001b[0;34m\u001b[0m\n\u001b[1;32m      4\u001b[0m \u001b[0;34m\u001b[0m\u001b[0m\n\u001b[1;32m      5\u001b[0m \u001b[0mprint\u001b[0m\u001b[0;34m(\u001b[0m\u001b[0mdivide\u001b[0m\u001b[0;34m(\u001b[0m\u001b[0;36m10\u001b[0m\u001b[0;34m,\u001b[0m \u001b[0;36m5\u001b[0m\u001b[0;34m)\u001b[0m\u001b[0;34m)\u001b[0m\u001b[0;34m\u001b[0m\u001b[0;34m\u001b[0m\u001b[0m\n\u001b[0;32m----> 6\u001b[0;31m \u001b[0mprint\u001b[0m\u001b[0;34m(\u001b[0m\u001b[0mdivide\u001b[0m\u001b[0;34m(\u001b[0m\u001b[0;36m10\u001b[0m\u001b[0;34m,\u001b[0m \u001b[0;36m0\u001b[0m\u001b[0;34m)\u001b[0m\u001b[0;34m)\u001b[0m\u001b[0;34m\u001b[0m\u001b[0;34m\u001b[0m\u001b[0m\n\u001b[0m",
            "\u001b[0;32m<ipython-input-1-4078b49b8c3e>\u001b[0m in \u001b[0;36mdivide\u001b[0;34m(x, y)\u001b[0m\n\u001b[1;32m      1\u001b[0m \u001b[0;32mdef\u001b[0m \u001b[0mdivide\u001b[0m\u001b[0;34m(\u001b[0m\u001b[0mx\u001b[0m\u001b[0;34m,\u001b[0m \u001b[0my\u001b[0m\u001b[0;34m)\u001b[0m\u001b[0;34m:\u001b[0m\u001b[0;34m\u001b[0m\u001b[0;34m\u001b[0m\u001b[0m\n\u001b[0;32m----> 2\u001b[0;31m     \u001b[0mresult\u001b[0m \u001b[0;34m=\u001b[0m \u001b[0mx\u001b[0m \u001b[0;34m/\u001b[0m \u001b[0my\u001b[0m\u001b[0;34m\u001b[0m\u001b[0;34m\u001b[0m\u001b[0m\n\u001b[0m\u001b[1;32m      3\u001b[0m     \u001b[0;32mreturn\u001b[0m \u001b[0mresult\u001b[0m\u001b[0;34m\u001b[0m\u001b[0;34m\u001b[0m\u001b[0m\n\u001b[1;32m      4\u001b[0m \u001b[0;34m\u001b[0m\u001b[0m\n\u001b[1;32m      5\u001b[0m \u001b[0mprint\u001b[0m\u001b[0;34m(\u001b[0m\u001b[0mdivide\u001b[0m\u001b[0;34m(\u001b[0m\u001b[0;36m10\u001b[0m\u001b[0;34m,\u001b[0m \u001b[0;36m5\u001b[0m\u001b[0;34m)\u001b[0m\u001b[0;34m)\u001b[0m\u001b[0;34m\u001b[0m\u001b[0;34m\u001b[0m\u001b[0m\n",
            "\u001b[0;31mZeroDivisionError\u001b[0m: division by zero"
          ]
        }
      ],
      "source": [
        "def divide(x, y):\n",
        "    result = x / y\n",
        "    return result\n",
        "\n",
        "print(divide(10, 5))\n",
        "print(divide(10, 0))"
      ]
    },
    {
      "cell_type": "markdown",
      "source": [
        "Q3. Which Python statements are used to catch and handle exceptions? Explain with an example"
      ],
      "metadata": {
        "id": "AeOAvPjP8dMZ"
      }
    },
    {
      "cell_type": "markdown",
      "source": [
        "In Python, exceptions can be caught and handled using the try and except statements. The try block contains the code that might raise an exception, and the except block contains the code that will handle the exception if it occurs.\n",
        "\n",
        "Here is an example of how to use the try and except statements to handle a ZeroDivisionError exception:"
      ],
      "metadata": {
        "id": "6cfEyR9I9eNo"
      }
    },
    {
      "cell_type": "code",
      "source": [
        "def divide(x, y):\n",
        "    try:\n",
        "        result = x / y\n",
        "    except ZeroDivisionError:\n",
        "        print(\"Cannot divide by zero\")\n",
        "    else:\n",
        "        return result\n",
        "\n",
        "print(divide(10, 5)) # Output: 2.0\n",
        "print(divide(10, 0)) # Output: Cannot divide by zero"
      ],
      "metadata": {
        "colab": {
          "base_uri": "https://localhost:8080/"
        },
        "id": "cLdeCtqG8Xdv",
        "outputId": "8affc550-db7b-49ba-aa7c-befebb6f4721"
      },
      "execution_count": 2,
      "outputs": [
        {
          "output_type": "stream",
          "name": "stdout",
          "text": [
            "2.0\n",
            "Cannot divide by zero\n",
            "None\n"
          ]
        }
      ]
    },
    {
      "cell_type": "markdown",
      "source": [
        "Q4. Explain with an example:#\n",
        "\n",
        "- try and else\n",
        "- finally\n",
        "- raise"
      ],
      "metadata": {
        "id": "B7NNS5QP9lte"
      }
    },
    {
      "cell_type": "code",
      "source": [
        "# try and else statements can be used in combination to handle exceptions in Python. The else block is executed if no exceptions are raised in the try block.\n",
        "#example\n",
        "\n",
        "def divide(x, y):\n",
        "    try:\n",
        "        result = x / y\n",
        "    except ZeroDivisionError:\n",
        "        print(\"Cannot divide by zero\")\n",
        "    else:\n",
        "        return result\n",
        "\n",
        "print(divide(10, 5)) # Output: 2.0\n",
        "print(divide(10, 2)) # Output: 5.0\n"
      ],
      "metadata": {
        "colab": {
          "base_uri": "https://localhost:8080/"
        },
        "id": "qpX1uYwd9hHq",
        "outputId": "6ecc404a-67f1-45b2-cb00-0a087cd1c556"
      },
      "execution_count": 3,
      "outputs": [
        {
          "output_type": "stream",
          "name": "stdout",
          "text": [
            "2.0\n",
            "5.0\n"
          ]
        }
      ]
    },
    {
      "cell_type": "code",
      "source": [
        "#The finally statement in Python is used to specify a block of code that should be executed regardless of whether an exception occurs or not. The code in the finally block is guaranteed to be executed, even if an exception is raised and not caught in the try block.\n",
        "#example\n",
        "def divide(x, y):\n",
        "    try:\n",
        "        result = x / y\n",
        "    except ZeroDivisionError:\n",
        "        print(\"Cannot divide by zero\")\n",
        "        result = None\n",
        "    finally:\n",
        "        print(\"Executing finally block\")\n",
        "    return result\n",
        "\n",
        "print(divide(10, 5)) # Output: Executing finally block \\n 2.0\n",
        "print(divide(10, 0)) # Output: Cannot divide by zero \\n Executing finally block \\n None"
      ],
      "metadata": {
        "colab": {
          "base_uri": "https://localhost:8080/"
        },
        "id": "a94sHpUo-FQK",
        "outputId": "8de0a062-587e-4e2d-ed60-43db0f0104f4"
      },
      "execution_count": 4,
      "outputs": [
        {
          "output_type": "stream",
          "name": "stdout",
          "text": [
            "Executing finally block\n",
            "2.0\n",
            "Cannot divide by zero\n",
            "Executing finally block\n",
            "None\n"
          ]
        }
      ]
    },
    {
      "cell_type": "code",
      "source": [
        "#The raise statement in Python is used to raise an exception explicitly. It is used to indicate that an error has occurred and to stop the normal execution of the program.\n",
        "#example\n",
        "\n",
        "def divide(x, y):\n",
        "    if y == 0:\n",
        "        raise ZeroDivisionError(\"Cannot divide by zero\")\n",
        "    return x / y\n",
        "\n",
        "try:\n",
        "    print(divide(10, 5)) # Output: 2.0\n",
        "    print(divide(10, 0))\n",
        "except ZeroDivisionError as e:\n",
        "    print(e) # Output: Cannot divide by zero"
      ],
      "metadata": {
        "colab": {
          "base_uri": "https://localhost:8080/"
        },
        "id": "TVTFtiIE-U32",
        "outputId": "2c108218-ad36-4ec8-8ae7-5131e4c3aa59"
      },
      "execution_count": 6,
      "outputs": [
        {
          "output_type": "stream",
          "name": "stdout",
          "text": [
            "2.0\n",
            "Cannot divide by zero\n"
          ]
        }
      ]
    },
    {
      "cell_type": "markdown",
      "source": [
        "Q5. What are Custom Exceptions in python? What do we need Custom Exceptions ? Explain in with an example"
      ],
      "metadata": {
        "id": "mOeZNWdE-3BZ"
      }
    },
    {
      "cell_type": "markdown",
      "source": [
        "Custom exceptions are user-defined exceptions in Python. They allow you to define specific types of exceptions for your application, so you can handle errors and exceptions in a more organized and meaningful way.\n",
        "\n",
        "For example, consider a scenario where you are writing a library that performs some mathematical calculations. In this library, you may encounter several different types of errors, such as invalid input, overflow, and divide-by-zero errors. You could handle these errors by raising built-in exceptions, such as ValueError or ZeroDivisionError, but it may not provide enough context or information about the error that has occurred."
      ],
      "metadata": {
        "id": "yVNYHpcD_32d"
      }
    },
    {
      "cell_type": "code",
      "source": [
        "class InvalidInputError(Exception):\n",
        "    pass\n",
        "\n",
        "class OverflowError(Exception):\n",
        "    pass\n",
        "\n",
        "class DivideByZeroError(Exception):\n",
        "    pass\n",
        "\n",
        "def divide(x, y):\n",
        "    if y == 0:\n",
        "        raise DivideByZeroError(\"Cannot divide by zero\")\n",
        "    return x / y\n",
        "\n",
        "def calculate(x, y):\n",
        "    try:\n",
        "        if x < 0 or y < 0:\n",
        "            raise InvalidInputError(\"Input values must be positive\")\n",
        "        result = divide(x, y)\n",
        "    except DivideByZeroError as e:\n",
        "        print(e)\n",
        "    except InvalidInputError as e:\n",
        "        print(e)\n",
        "    else:\n",
        "        return result\n",
        "\n",
        "print(calculate(10, 5)) # Output: 2.0\n",
        "print(calculate(-10, 5)) # Output: Input values must be positive\n",
        "print(calculate(10, 0)) # Output: Cannot divide by zero"
      ],
      "metadata": {
        "colab": {
          "base_uri": "https://localhost:8080/"
        },
        "id": "Vc8ahPB3-v4C",
        "outputId": "175c1842-ee7e-46f3-f609-2c096ff6d43f"
      },
      "execution_count": 8,
      "outputs": [
        {
          "output_type": "stream",
          "name": "stdout",
          "text": [
            "2.0\n",
            "Input values must be positive\n",
            "None\n",
            "Cannot divide by zero\n",
            "None\n"
          ]
        }
      ]
    },
    {
      "cell_type": "markdown",
      "source": [
        "Q6. Create a custom exception class. Use this class to handle an exception."
      ],
      "metadata": {
        "id": "Fq0gvgRi-4cT"
      }
    },
    {
      "cell_type": "code",
      "source": [
        "class CustomException(Exception):\n",
        "    pass\n",
        "\n",
        "def divide(x, y):\n",
        "    if y == 0:\n",
        "        raise CustomException(\"Cannot divide by zero\")\n",
        "    return x / y\n",
        "\n",
        "try:\n",
        "    print(divide(10, 5)) # Output: 2.0\n",
        "    print(divide(10, 0))\n",
        "except CustomException as e:\n",
        "    print(e) # Output: Cannot divide by zero"
      ],
      "metadata": {
        "colab": {
          "base_uri": "https://localhost:8080/"
        },
        "id": "DubvjyKc_H-U",
        "outputId": "29a6db15-5635-4e2d-a023-b5d04648ae31"
      },
      "execution_count": 7,
      "outputs": [
        {
          "output_type": "stream",
          "name": "stdout",
          "text": [
            "2.0\n",
            "Cannot divide by zero\n"
          ]
        }
      ]
    },
    {
      "cell_type": "code",
      "source": [],
      "metadata": {
        "id": "dYNpxzXR_Z2t"
      },
      "execution_count": null,
      "outputs": []
    }
  ]
}